{
 "cells": [
  {
   "cell_type": "code",
   "execution_count": null,
   "metadata": {},
   "outputs": [],
   "source": [
    "!pip -q install transformers accelerate safetensors bitsAndBytes\n"
   ]
  },
  {
   "cell_type": "code",
   "execution_count": null,
   "metadata": {},
   "outputs": [],
   "source": [
    "from transformers import AutoTokenizer, AutoModelForCausalLM, TextStremer\n",
    "import torch\n",
    "\n",
    "repo = \"Luke-griggs/small-talk-1.3\"\n",
    "\n",
    "tokenizer = AutoTokenizer.from_pretrained(repo)\n",
    "model = AutoModelForCausalLM.from_pretrained(\n",
    "    repo,\n",
    "    torch_dtype=torch.float16,\n",
    "    device_map=\"auto\"\n",
    "    )\n",
    "model.eval()\n"
   ]
  },
  {
   "cell_type": "code",
   "execution_count": null,
   "metadata": {},
   "outputs": [],
   "source": [
    "test_prompt1 = \"what is your favorite thing to do?\"\n",
    "test_prompt2 = \"what is a recent accomplishment you're proud of?\"\n",
    "test_prompt3 = \"what is a place that you've always wanted to go?\"\n",
    "test_prompt4 = \"when was the last time you felt excited about something?\"\n",
    "\n",
    "test_prompt = test_prompt4\n",
    "\n",
    "chat = [\n",
    "    {\"role\": \"system\", \"content\": \"You are a helpful, polite, and friendly assistant.\"},\n",
    "    {\"role\": \"user\", \"content\": test_prompt}\n",
    "]\n",
    "\n",
    "device = torch.device(\"mps\" if torch.backends.mps.is_available() else \"cuda\" if torch.cuda.is_available() else \"cpu\")\n",
    "\n",
    "inputs = tokenizer.apply_chat_template(chat, return_tensors=\"pt\", add_generation_prompt=True).to(device)\n",
    "\n",
    "streamer = TextStreamer(tokenizer, skip_prompt=True, skip_special_tokens=True)\n",
    "\n",
    "with torch.no_grad():\n",
    "    outputs = model.generate(\n",
    "        inputs,\n",
    "        max_new_tokens=200,\n",
    "        do_sample=True,\n",
    "        temperature=0.7,\n",
    "        pad_token_id=tokenizer.eos_token_id,\n",
    "        streamer=streamer\n",
    "    )\n"
   ]
  }
 ],
 "metadata": {
  "kernelspec": {
   "display_name": "Python 3",
   "language": "python",
   "name": "python3"
  },
  "language_info": {
   "codemirror_mode": {
    "name": "ipython",
    "version": 3
   },
   "file_extension": ".py",
   "mimetype": "text/x-python",
   "name": "python",
   "nbconvert_exporter": "python",
   "pygments_lexer": "ipython3",
   "version": "3.9.6"
  }
 },
 "nbformat": 4,
 "nbformat_minor": 2
}
