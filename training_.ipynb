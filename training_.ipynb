{
  "cells": [
    {
      "cell_type": "code",
      "execution_count": null,
      "metadata": {},
      "outputs": [],
      "source": [
        "!pip -q install trl transformers peft bitsandbytes datasets accelerate\n"
      ]
    },
    {
      "cell_type": "code",
      "execution_count": null,
      "metadata": {},
      "outputs": [],
      "source": [
        "from transformers import AutoTokenizer, AutoModelForCausalLM, set_seed, BitsAndBytesConfig\n",
        "from trl import DPOTrainer, DPOConfig\n",
        "from datasets import load_dataset, Dataset, DatasetDict\n",
        "from peft import LoraConfig, get_peft_model\n",
        "import torch\n",
        "import json\n",
        "import time\n",
        "import gc\n",
        "import copy\n"
      ]
    },
    {
      "cell_type": "code",
      "execution_count": null,
      "metadata": {},
      "outputs": [],
      "source": [
        "device = torch.device(\"mps\" if torch.backends.mps.is_available() else \"cuda\" if torch.cuda.is_available() else \"cpu\")\n",
        "print(\"Using device:\", device)\n",
        "\n",
        "if device.type == \"cuda\":\n",
        "    device_index = torch.cuda.current_device()\n",
        "    device_name = torch.cuda.get_device_name(device_index)\n",
        "    total_mem = torch.cuda.get_device_properties(device_index).total_memory / 1e9  \n",
        "    allocated_mem = torch.cuda.memory_allocated(device_index) / 1e9\n",
        "    reserved_mem = torch.cuda.memory_reserved(device_index) / 1e9\n",
        "\n",
        "    print(f\"CUDA device name: {device_name}\")\n",
        "    print(f\"Total memory: {total_mem:.2f} GB\")\n",
        "    print(f\"Memory allocated: {allocated_mem:.2f} GB\")\n",
        "    print(f\"Memory reserved: {reserved_mem:.2f} GB\")\n"
      ]
    },
    {
      "cell_type": "code",
      "execution_count": null,
      "metadata": {},
      "outputs": [],
      "source": [
        "dataset = load_dataset(\"HumanLLMs/Human-Like-DPO-Dataset\")\n",
        "print(\"Original dataset:\", dataset)\n",
        "\n"
      ]
    },
    {
      "cell_type": "code",
      "execution_count": null,
      "metadata": {},
      "outputs": [],
      "source": [
        "train_test = dataset['train'].train_test_split(test_size=0.2, shuffle=True, seed=42)\n",
        "test_val = train_test['test'].train_test_split(test_size=200, shuffle=True, seed=42)\n",
        "\n",
        "dataset = DatasetDict({\n",
        "    \"train\": train_test['train'],\n",
        "    \"test\": test_val['train'],\n",
        "    \"validation\": test_val['test']\n",
        "})\n",
        "\n",
        "print(\"Split dataset:\", dataset)\n"
      ]
    },
    {
      "cell_type": "code",
      "execution_count": null,
      "metadata": {},
      "outputs": [],
      "source": [
        "compute_dtype = getattr(torch, \"float16\")\n",
        "bnb_config = BitsAndBytesConfig(\n",
        "    load_in_4bit=True,\n",
        "    bnb_4bit_quant_type='nf4',\n",
        "    bnb_4bit_compute_dtype=compute_dtype,\n",
        "    bnb_4bit_use_double_quant=False,\n",
        ")\n"
      ]
    },
    {
      "cell_type": "code",
      "execution_count": null,
      "metadata": {},
      "outputs": [],
      "source": [
        "model_name = 'meta-llama/Llama-3.2-1B-Instruct'\n",
        "device_map = {\"\": 0}\n",
        "\n",
        "print(\"Loading main model for training...\")\n",
        "model = AutoModelForCausalLM.from_pretrained(\n",
        "    model_name,\n",
        "    device_map=device_map,\n",
        "    quantization_config=bnb_config,\n",
        "    trust_remote_code=True,\n",
        "    token=True\n",
        ")\n",
        "\n",
        "print(\"Loading reference model for DPO...\")\n",
        "ref_model = AutoModelForCausalLM.from_pretrained(\n",
        "    model_name,\n",
        "    device_map=device_map,\n",
        "    quantization_config=bnb_config,\n",
        "    trust_remote_code=True,\n",
        "    token=True\n",
        ")\n",
        "\n",
        "MAX_LENGTH = model.config.max_position_embeddings\n",
        "print(f\"Max length: {MAX_LENGTH}\")\n"
      ]
    },
    {
      "cell_type": "code",
      "execution_count": null,
      "metadata": {},
      "outputs": [],
      "source": [
        "tokenizer = AutoTokenizer.from_pretrained(\n",
        "    model_name, \n",
        "    trust_remote_code=True, \n",
        "    padding_side=\"left\", \n",
        "    add_eos_token=False, \n",
        "    add_bos_token=False, \n",
        "    use_fast=False\n",
        ")\n",
        "tokenizer.pad_token = tokenizer.eos_token\n",
        "print(f\"Tokenizer pad token: {tokenizer.pad_token}\")\n"
      ]
    },
    {
      "cell_type": "code",
      "execution_count": null,
      "metadata": {},
      "outputs": [],
      "source": [
        "# CRITICAL FIX: Correct LoRA target modules for Llama\n",
        "lora_config = LoraConfig(\n",
        "    r=16,\n",
        "    lora_alpha=32, \n",
        "    target_modules=[\n",
        "        'q_proj',\n",
        "        'k_proj',\n",
        "        'v_proj',\n",
        "        'o_proj',  \n",
        "        'gate_proj',\n",
        "        'up_proj',\n",
        "        'down_proj'\n",
        "    ],\n",
        "    bias=\"none\",\n",
        "    lora_dropout=0.05,\n",
        "    task_type=\"CAUSAL_LM\"\n",
        ")\n",
        "model = get_peft_model(model, lora_config)\n",
        "model.print_trainable_parameters()\n"
      ]
    },
    {
      "cell_type": "code",
      "execution_count": null,
      "metadata": {},
      "outputs": [],
      "source": [
        "timestamp_str = str(int(time.time()))\n",
        "output_dir = f'./small-talk-fixed-{timestamp_str}'\n",
        "\n",
        "training_args = DPOConfig(\n",
        "    output_dir=output_dir,\n",
        "    per_device_train_batch_size=1,  \n",
        "    per_device_eval_batch_size=1,\n",
        "    num_train_epochs=2,  \n",
        "    gradient_accumulation_steps=4, \n",
        "    eval_strategy=\"steps\",\n",
        "    eval_steps=500,\n",
        "    save_strategy=\"steps\",\n",
        "    save_steps=500,\n",
        "    logging_steps=10,\n",
        "    learning_rate=1e-5, \n",
        "    fp16=True,\n",
        "    report_to=\"none\",\n",
        "    beta=0.3,  \n",
        "    loss_type='sigmoid',\n",
        "    max_length=1024,  \n",
        "    max_prompt_length=512, \n",
        "    remove_unused_columns=False,\n",
        "    gradient_checkpointing=True,\n",
        "    warmup_steps=50\n",
        ")\n",
        "\n",
        "# CRITICAL FIX: Use the reference model\n",
        "trainer = DPOTrainer(\n",
        "    model=model,\n",
        "    ref_model=ref_model,  \n",
        "    args=training_args,\n",
        "    train_dataset=dataset['train'],\n",
        "    eval_dataset=dataset['validation'],\n",
        "    tokenizer=tokenizer,\n",
        ")\n",
        "\n",
        "print(\"Trainer initialized successfully!\")\n"
      ]
    },
    {
      "cell_type": "code",
      "execution_count": null,
      "metadata": {},
      "outputs": [],
      "source": [
        "# Start training\n",
        "print(\"Starting DPO training...\")\n",
        "trainer.train()\n"
      ]
    },
    {
      "cell_type": "code",
      "execution_count": null,
      "metadata": {},
      "outputs": [],
      "source": [
        "# Test\n",
        "test_prompt = \"What's the most important lesson you've learned in life?\"\n",
        "print(f\"Test prompt: {test_prompt}\")\n",
        "\n",
        "\n",
        "chat = [\n",
        "    {\"role\": \"system\", \"content\": \"You are a helpful, polite, and friendly assistant.\"},\n",
        "    {\"role\": \"user\", \"content\": test_prompt}\n",
        "]\n",
        "\n",
        "inputs = tokenizer.apply_chat_template(chat, return_tensors=\"pt\", add_generation_prompt=True).to(device)\n",
        "with torch.no_grad():\n",
        "    outputs = model.generate(\n",
        "        inputs,\n",
        "        max_new_tokens=200,\n",
        "        do_sample=True,\n",
        "        temperature=0.7,\n",
        "        pad_token_id=tokenizer.eos_token_id\n",
        "    )\n",
        "    \n",
        "response = tokenizer.decode(outputs[0], skip_special_tokens=True)\n",
        "print(f\"Model response: {response}\")\n"
      ]
    },
    {
      "cell_type": "code",
      "execution_count": null,
      "metadata": {},
      "outputs": [],
      "source": [
        "# Save the model\n",
        "print(\"Saving model...\")\n",
        "merged_model = trainer.model.merge_and_unload()\n",
        "merged_model.save_pretrained(\"./small-talk-1.3\")\n",
        "tokenizer.save_pretrained(\"./small-talk-1.3\")\n",
        "\n",
        "print(\"Model saved successfully!\")\n",
        "print(\"You can now push to hub if desired:\")\n",
        "print(\"merged_model.push_to_hub('your-username/small-talk-fixed')\")\n",
        "print(\"tokenizer.push_to_hub('your-username/small-talk-fixed')\")\n"
      ]
    }
  ],
  "metadata": {
    "language_info": {
      "name": "python"
    }
  },
  "nbformat": 4,
  "nbformat_minor": 2
}
