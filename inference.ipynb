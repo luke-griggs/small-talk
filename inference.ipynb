{
 "cells": [
  {
   "cell_type": "code",
   "execution_count": null,
   "metadata": {},
   "outputs": [],
   "source": [
    "!pip -q install transformers accelerate safetensors bitsAndBytes\n"
   ]
  },
  {
   "cell_type": "code",
   "execution_count": null,
   "metadata": {},
   "outputs": [],
   "source": [
    "from transformers import AutoTokenizer, AutoModelForCausalLM, BitsAndBytesConfig\n",
    "import torch\n",
    "\n",
    "repo = \"Luke-griggs/small-talk-1.2\"\n",
    "\n",
    "bnb_config = BitsAndBytesConfig(\n",
    "    load_in_4bit=True,\n",
    "    bnb_4bit_use_double_quant=True,\n",
    "    bnb_4bit_quant_type=\"nf4\",\n",
    "    bnb_4bit_compute_dtype=torch.bfloat16,  # or float16 if needed\n",
    ")\n",
    "\n",
    "tokenizer = AutoTokenizer.from_pretrained(repo)\n",
    "model = AutoModelForCausalLM.from_pretrained(\n",
    "    repo,\n",
    "    torch_dtype=torch.float16,\n",
    "    device_map=\"auto\"\n",
    "    )\n",
    "model.eval()"
   ]
  },
  {
   "cell_type": "code",
   "execution_count": null,
   "metadata": {},
   "outputs": [],
   "source": [
    "chat = [\n",
    "    {\"role\": \"system\", \n",
    "     \"content\": \"\"\"\n",
    "You are a helpful, polite, and friendly assistant. Answer questions to the best of your ability.\n",
    "If you don't know something, be honest and say so. Keep responses clear and concise.\"},\n",
    "\n",
    "\"\"\"},\n",
    "     {\"role\": \"user\", \"content\": \"What's your favorite thing to do?\"}\n",
    "]\n",
    "\n",
    "prompt = tokenizer.apply_chat_template(chat, tokenize=False, add_generation_prompt=True)\n",
    "\n",
    "inputs = tokenizer(prompt, return_tensors=\"pt\").to(model.device)\n",
    "\n",
    "with torch.no_grad():\n",
    "    output = model.generate(\n",
    "        **inputs,\n",
    "        max_new_tokens=128,\n",
    "        do_sample=True,\n",
    "        temperature=0.7,\n",
    "        top_p=0.9\n",
    "    )\n",
    "\n",
    "\n",
    "full_text = tokenizer.decode(output[0], skip_special_tokens=True)\n",
    "prompt_text = tokenizer.decode(inputs['input_ids'][0], skip_special_tokens=True)\n",
    "\n",
    "print(full_text[len(prompt_text):])"
   ]
  }
 ],
 "metadata": {
  "kernelspec": {
   "display_name": "Python 3",
   "language": "python",
   "name": "python3"
  },
  "language_info": {
   "codemirror_mode": {
    "name": "ipython",
    "version": 3
   },
   "file_extension": ".py",
   "mimetype": "text/x-python",
   "name": "python",
   "nbconvert_exporter": "python",
   "pygments_lexer": "ipython3",
   "version": "3.9.6"
  }
 },
 "nbformat": 4,
 "nbformat_minor": 2
}
